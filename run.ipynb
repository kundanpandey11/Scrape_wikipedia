{
 "cells": [
  {
   "cell_type": "code",
   "execution_count": 44,
   "metadata": {},
   "outputs": [],
   "source": [
    "import requests \n",
    "import csv \n",
    "from bs4 import BeautifulSoup"
   ]
  },
  {
   "cell_type": "code",
   "execution_count": 45,
   "metadata": {},
   "outputs": [],
   "source": [
    "# get response of wikipedia\n",
    "def get_reponse(url=\"https://en.wikipedia.org/wiki/2023_AFL_season\"):\n",
    "    response = requests.get(url)\n",
    "    print(response.status_code)\n",
    "    return response.text"
   ]
  },
  {
   "cell_type": "code",
   "execution_count": 46,
   "metadata": {},
   "outputs": [],
   "source": [
    "#read response and extract table data \n",
    "def read_response(response):\n",
    "    \"\"\"\n",
    "    1.\tRound Number (example: \"1\")\n",
    "    2.\tDay of the game (example: \"Friday\")\n",
    "    3.\tDate of the game (example: \"19-Sep\")\n",
    "    4.\tTime of the game (example: \"7:50 pm\")\n",
    "    5.\tFirst team name (example: \"Brisbane Lions\")\n",
    "    6.\tFirst team score in points only (example: \"57\")\n",
    "    7.\tFirst team win status (either \"def. by\" or \"def.\")\n",
    "    8.\tSecond team name (example: \"Melbourne\")\n",
    "    9.\tSecond team score in points only (example: \"115\")\n",
    "    10.\tGame location (example: \"The Gabba\")\n",
    "    11.\tStadium Attendees (example: \"32172\")\n",
    "    \"\"\"\n",
    "    data = []\n",
    "    # with open(\"index.html\", \"r\", encoding=\"utf-8\") as html_file:\n",
    "    soup = BeautifulSoup(response, \"html.parser\")\n",
    "    tables = soup.find_all('table', {'cellspacing': '0', 'style': 'width: 100%; background-color: #f1f5fc; border: 2px solid #D0E5F5'})\n",
    "    for table in tables:\n",
    "        tbody = table.find(\"tbody\")\n",
    "        round = table.find_all('tr')[1].find('th', {'style': 'text-align:center;'})\n",
    "        if \"Round\" in round.text:\n",
    "            round_number = str(round.text).split(\" \")[1].strip()\n",
    "            row_count = len(table.find_all('tr'))\n",
    "            # print (row_count)\n",
    "            for i in range(2, (row_count-1)):\n",
    "                \n",
    "                allrow = tbody.find_all('tr')[i].find('td').text\n",
    "                if \"pm)\" in allrow or \"am)\" in allrow:\n",
    "                    game_date_day = allrow.strip()\n",
    "                    game_day = game_date_day.split(\", \")[0]\n",
    "                    game_date = game_date_day.split(', ')[-1].split(\"(\")[0]\n",
    "                    game_time = game_date_day.split(', ')[-1].split(\"(\")[-1].split(\")\")[0]\n",
    "                    \n",
    "                    try:\n",
    "                        first_team_name =  tbody.find_all('tr')[i].find_all('td')[1].find(\"a\")['title'] \n",
    "                    except Exception as e:\n",
    "                        first_team_name =  \"Na\" \n",
    "                    try:\n",
    "                        first_team_score = tbody.find_all('tr')[i].find_all('td')[1].text.split(\"(\")[-1].split(\")\")[0].strip() \n",
    "                    except Exception as e:\n",
    "                        first_team_score = \"Na\" \n",
    "                    try:\n",
    "                        first_team_win_status = tbody.find_all('tr')[i].find_all('td')[2].text.strip() \n",
    "                    except Exception as e:\n",
    "                        first_team_win_status = \"Na\" \n",
    "                    try:\n",
    "                        second_team_name = tbody.find_all('tr')[i].find_all('td')[3].find(\"a\")['title'] \n",
    "                    except Exception as e:\n",
    "                        second_team_name = \"Na\" \n",
    "                    try:\n",
    "                        second_team_score = tbody.find_all('tr')[i].find_all('td')[3].text.split(\"(\")[-1].split(\")\")[0].strip()\n",
    "\n",
    "                    except Exception as e:\n",
    "                        second_team_score = \"Na\"\n",
    "\n",
    "                    try:\n",
    "                        game_location_raw =tbody.find_all('tr')[i].find_all('td')[4].text.strip() \n",
    "                    except Exception as e:\n",
    "                        game_location_raw =\"Na\"\n",
    "                    \n",
    "                    try:\n",
    "                        crowd_raw = tbody.find_all('tr')[i].find_all('td')[4].text.split(\"(\")[-1].split(\")\")[0].split(\" \")[-1].strip() \n",
    "                    except Exception as e:\n",
    "                        crowd_raw = \"Na\"\n",
    "\n",
    "                    game_day = game_day.replace('\\xa0', ' ')\n",
    "                    game_date = game_date.replace('\\xa0', ' ')\n",
    "                    game_time = game_time.replace('\\xa0', ' ')\n",
    "                    game_location = game_location_raw.replace('\\n', '').replace('\\t', '').replace('\\xa0', ' ').split(\"(crowd:\")[0]\n",
    "                    crowd = crowd_raw.replace('crowd:', '').replace('\\xa0', '').strip()\n",
    "                    details = [\n",
    "                        round_number, game_day, game_date, game_time, \n",
    "                        first_team_name, first_team_score, \n",
    "                        first_team_win_status, second_team_name, \n",
    "                        second_team_score, game_location, crowd]\n",
    "                    data.append(details)\n",
    "    return data \n",
    "\n",
    "\n"
   ]
  },
  {
   "cell_type": "code",
   "execution_count": 47,
   "metadata": {},
   "outputs": [],
   "source": [
    "#store data of each url in a csv_file\n",
    "#take csv file name from the url itself \n",
    "def create_csv_file(file_name, data):\n",
    "    # with open(file_name, \"w\", encoding=\"utf-8\") as file:\n",
    "    with open(f\"csv/{file_name}\", \"w\", encoding=\"utf-8\", newline='') as file:\n",
    "        writer = csv.writer(file)\n",
    "        writer.writerow(['Round', \"Day\", \"Date\", \"Time\", \"First Team Name\",\n",
    "                         \"First Team Score\", \"First Team win Status\", \"Second Team name\", \"Second Team Score\",\n",
    "                         \"Game Location\", \"Croud\"])\n",
    "        for row in data:\n",
    "            cleaned_row = [element.strip() if isinstance(element, str) else element for element in row]\n",
    "            writer.writerow(cleaned_row)\n",
    "        print(f\"All data is saved in csv/{file_name}.\")\n",
    "\n",
    "    "
   ]
  },
  {
   "cell_type": "code",
   "execution_count": 48,
   "metadata": {},
   "outputs": [
    {
     "name": "stdout",
     "output_type": "stream",
     "text": [
      "https://en.wikipedia.org/wiki/2023_AFL_Women%27s_season\n",
      "200\n",
      "All data is saved in csv/2023_AFL_Women%27s_season.csv.\n",
      "https://en.wikipedia.org/wiki/2023_AFL_season\n",
      "200\n",
      "All data is saved in csv/2023_AFL_season.csv.\n"
     ]
    }
   ],
   "source": [
    "def run(txt_file):\n",
    "    with open(txt_file, \"r\", encoding=\"utf-8\") as file:\n",
    "        urls = file.readlines()\n",
    "        uls = [url.strip() for url in urls]\n",
    "        for url in uls:\n",
    "            print(url)\n",
    "            try:\n",
    "                csv_name = url.split(\"/\")[-1].replace(\"\\n\", \"\") + \".csv\"\n",
    "                resp = get_reponse(url=url)\n",
    "                data = read_response(response=resp)\n",
    "                create_csv_file(file_name=csv_name, data=data)\n",
    "            except Exception as e:\n",
    "                print(e)\n",
    "            \n",
    "            \n",
    "run(txt_file=\"url.txt\")"
   ]
  }
 ],
 "metadata": {
  "kernelspec": {
   "display_name": "facebook_groups",
   "language": "python",
   "name": "python3"
  },
  "language_info": {
   "codemirror_mode": {
    "name": "ipython",
    "version": 3
   },
   "file_extension": ".py",
   "mimetype": "text/x-python",
   "name": "python",
   "nbconvert_exporter": "python",
   "pygments_lexer": "ipython3",
   "version": "3.8.10"
  }
 },
 "nbformat": 4,
 "nbformat_minor": 2
}
